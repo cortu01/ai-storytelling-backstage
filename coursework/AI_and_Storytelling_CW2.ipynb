{
  "nbformat": 4,
  "nbformat_minor": 0,
  "metadata": {
    "colab": {
      "provenance": []
    },
    "kernelspec": {
      "name": "python3",
      "display_name": "Python 3"
    },
    "language_info": {
      "name": "python"
    }
  },
  "cells": [
    {
      "cell_type": "markdown",
      "source": [
        "# **Artificial Intelligence & Storytelling - Coursework 2**\n",
        "\n",
        "This documents contains all the instructions for completing Coursework 2 of Artificial Intelligence & Storytelling (AIST). Submission will be done on the course's Learn page, where you will also find the submission and feedback dates. You need to submit a downloaded copy of this notebook filled in, as well as a copy of any image files you brought from outside the notebook (this is relevant for Exercise A). If you have improvised in some way (where the coursework allows it) and used further external media, these should also be uploaded with the submission.\n",
        "\n",
        "To download a copy of your notebook go Download -> Download .ipnyb (not the .py option). Make sure all your outputs are saved on your copy. To be sure, go File -> Upload notebook to upload your copy to Colab and check you are submitting the version you want for the coursework.\n",
        "\n",
        "Don't forget to change the runtime type to GPU, from the menu Runtime -> Change runtime type. Assuming you have added some AI tools from the course, and with a GPU active, running a notebook (Runtime -> Run all) for the first time will take about 5 minutes (though you might have to be available for responding to some prompts). If you forget to change to GPU, or Google happens to not have any available at the moment, and you run on a CPU, than the same process would take about 40 minutes.\n",
        "\n",
        "Note, that though text outputs are consistent, and you won't get different results for the same input each time you run something, results can differ between runtimes for image generation. This just has to do with how the randomisation is happening. Avoid losing work you like by making sure you download copies of the notebook as backups (Download-> Download .ipnyb), and be careful when rerunning cells where you are happy with the output, as you might lose the previous output if you have not saved a copy.\n",
        "\n",
        "**Experiment freely, and submit something even if it doesn't work. Partial solutions are awarded credit.**\n",
        "\n",
        "**Reach out on available course channels for technical help on any aspect of the coursework, or for clarifications.**\n",
        "\n",
        "**Further details on what may be discussed openly will be explained on a Learn Discussion thread for the Coursework.**"
      ],
      "metadata": {
        "id": "FBW3rShWQb6D"
      }
    },
    {
      "cell_type": "code",
      "execution_count": null,
      "metadata": {
        "id": "y6tEWEDMOgSS",
        "cellView": "form"
      },
      "outputs": [],
      "source": [
        "#@title Install required packages\n",
        "#@markdown Run this first so that we can configure the notebook to have our code available.\n",
        "!pip install git+https://github.com/pkage/ai-storytelling-backstage.git#subdirectory=code/\n",
        "\n",
        "from aist.common import is_gpu_available\n",
        "\n",
        "\n",
        "print(f'GPU is {\"\" if is_gpu_available() else \"NOT \"}available on this instance.')\n",
        "\n",
        "import os\n",
        "from PIL import Image\n",
        "from aist import image\n",
        "from google.colab import files\n",
        "from aist.common import render_output_text\n",
        "from IPython.display import display\n",
        "\n",
        "from aist import text\n",
        "\n",
        "def get_concat_h_blank(im1, im2, color=(0, 0, 0)):\n",
        "    dst = Image.new('RGB', (im1.width + im2.width, max(im1.height, im2.height)), color)\n",
        "    dst.paste(im1, (0, 0))\n",
        "    dst.paste(im2, (im1.width, 0))\n",
        "    return dst\n",
        "\n",
        "#@markdown ***You may edit these parameters. Though it might be easier to just do so separately for each AI tool.***\n",
        "MODEL  = 'medium'\n",
        "SEED        = 0\n",
        "MAX_LENGTH  = 200\n",
        "NUM_RETURN_SEQUENCES = 1\n",
        "RENDER = True\n",
        "\n",
        "NUM_BEAMS = 4\n",
        "\n",
        "QA_MODEL  = 'deepset/roberta-base-squad2'\n",
        "\n",
        "SUMM_MODEL = 'facebook/bart-large-cnn'\n",
        "MIN_LENGTH = 30\n",
        "\n",
        "SA_MODEL = 'distilbert-base-uncased-finetuned-sst-2-english'\n",
        "\n",
        "FIB_MODEL = 'bert-base-uncased'\n",
        "\n",
        "#@markdown Click the run button to the left to start! Or, double-click the cell to see the code."
      ]
    },
    {
      "cell_type": "markdown",
      "source": [
        "# **Exercise A - Writing a scene**\n",
        "\n",
        "[Marks 85/100]\n",
        "\n",
        "In the previous coursework, we outlined a 3-arc story along the lines of what is described in [Into the Woods, Chapter 2]. In this one, we will be detailing a scene from the second arc of a 3-arc story, picking from the generated text to create part of our story.\n",
        "\n",
        "The scene your will write will be from the 2nd arc of a story, and will describe the main confrontation of your protagonist and an antagonist OR opposing force (someone or something standing against the protagonist and their attempts to reach some goal). You are asked to also provide a brief explanation, stating who the participants are, as well as what is happening in the scene (full details in the explanation cell below).\n",
        "\n",
        "To provide a starting point, your scene will be constrained to start and end with the following:\n",
        "\n",
        "START: Breathe in. Breathe out.\n",
        "\n",
        "END: Just a final look up into the sky.\n",
        "\n",
        "You will not generally be able to do everything in one pass, and are expected to go back and forth between the parts of the scene, adjusting your prompts based on what you have come across so far. Playing with the prompts and outputs in this way is intended to be your main course activity, so Exercise A serves also as a constrained playing field for you to improve on this skill.\n",
        "\n",
        "Unlike with Coursework 1, Coursework 2 will not tell you which tools to use. You are free to explore with different tools and keep the outputs that best work for your story (we install all the necessary libraries for the course tools above; you will want to copy the cells with the tools from the [image](https://colab.research.google.com/drive/1y7SGcjCFmqHi4IO-RmLsxSG_K04rPA2E?usp=sharing) and [text generation](https://colab.research.google.com/drive/17Rum19IRByrzQh0d7U5GoU_GXaVuhNKG?usp=sharing) notebooks on the backstage). It is important to highlight that the goals need to be met by the **generated** text, not by your input text/prompt (note that the generated text will typically add your prompt to its beginning; that beginning will of course not count as generated text).\n",
        "\n",
        "You may add as many cells as you want and use any combination of tools (you may also add further code, but do not use external tools such as ChatGPT for Exercise A). **You will need to keep the cells and their output (if you used any text or images from them) as evidence that it was generated.**\n",
        "\n",
        "Select from the generated texts, and paste those parts into the cell below. You may make edits to this text for readability (especially on things like name, gender, or other identifier) but try to keep these to a minimum. The important part is that I can tell what generated text was the starting point.\n",
        "\n",
        "Just under the cell for the scene text, you will find a second cell where you are to provide an explanation that clarifies different elements of the story you wrote. **Marking will largely be done based on your identification of the expected elements, so please do not omit this.**\n",
        "\n",
        "Try to keep all prompts for AI tools to max 150 characters. There are no such constraints for the size of any images. Your answer with the final text for the scene should be no more than 1000 characters (excluding the explanation). To help you quickly count the number of characters in a string, I have added the cell below:"
      ],
      "metadata": {
        "id": "Uw92RTQ9OoCv"
      }
    },
    {
      "cell_type": "code",
      "source": [
        "#@title Measure the length of a string of characters\n",
        "PROMPT = \"The sky was a questionable grey-blue. Almost like it didn't want a sandwich. Good. I only had one.\" #@param {type: 'string'}\n",
        "\n",
        "#@markdown Click the run button to the left to start! Or, double-click the cell to see the code.\n",
        "\n",
        "length = len(PROMPT)\n",
        "print(\"This string has a length of \" + str(length) + \" characters.\")"
      ],
      "metadata": {
        "colab": {
          "base_uri": "https://localhost:8080/"
        },
        "cellView": "form",
        "id": "y0Kfcb0i_Z76",
        "outputId": "99167117-0f83-41f5-9b36-134de9d98d3e"
      },
      "execution_count": null,
      "outputs": [
        {
          "output_type": "stream",
          "name": "stdout",
          "text": [
            "This string has a length of 98 characters.\n"
          ]
        }
      ]
    },
    {
      "cell_type": "markdown",
      "source": [
        "In terms of marking, a reasonable attempt that lists most of the required elements in the explanation, awards a passing mark 50% [Mark 43/85]. Listing all the required elements, with a clear or exlained tie-in to the start and end, and all prompts under the 150 character limit, awards merit 65% [Mark 56/85]. Marks of distinction will be awarded for using a wide range of AI tools, creating a plausible story with minimum edits of the generated text, or if you surprise positively in some other way (this is in line with the University marking scheme).\n",
        "\n",
        "Unlike with Coursework 1, Coursework 2 allows you to change no, any, or all parameters for each AI tool (such as the number of characters in the output, or how many samples are generated). Some of these are preset in the \"Install remaining packages cell\" at the start of this notebook. You can edit their values there or when calling a function/tool, if you choose to."
      ],
      "metadata": {
        "id": "IBw7y5UFCudY"
      }
    },
    {
      "cell_type": "markdown",
      "source": [
        "## Add your final scene description below:\n",
        "\n",
        "**Breathe in. Breathe out.**\n",
        "\n",
        "Fill in your answer here, by pasting some of the text you have generated in this notebook. Please keep this to a max of 1000 characters. The text above and below this is the start and end of the scene.\n",
        "\n",
        "**Just a final look up into the sky.**"
      ],
      "metadata": {
        "id": "NKczNJrk-Iqh"
      }
    },
    {
      "cell_type": "markdown",
      "source": [
        "## Looking at your scene description above, explain where the requested story elements for your scene are:\n",
        "\n",
        "1.   The protagonist is:\n",
        "*   ...\n",
        "2.   The protagonist's main trait(s) are:\n",
        "*   ...\n",
        "3.   The antagonist (or opposing force) is:\n",
        "*   ...\n",
        "4.   Why is your protagonist in conflict with the antagonist (or why are they struggling with the 'opposing force')?\n",
        "*   ...\n",
        "5.   Where is this scene taking place?\n",
        "*   ...\n",
        "6.   What is the protagonist doing in this scene?\n",
        "*   ...\n",
        "7.   How is the antagonist/opposing force affecting or interacting with the protagonist?\n",
        "*   ...\n",
        "\n",
        "Please add any additional comments required to help explain the scene and bring the above elements together below:\n",
        "*   ..."
      ],
      "metadata": {
        "id": "80iNpsW7-asb"
      }
    },
    {
      "cell_type": "markdown",
      "source": [
        "## Add as many cells as you want from here on. Make sure that you keep any images and text that was generated and then used for the answer, and that these outputs are saved with the notebook."
      ],
      "metadata": {
        "id": "G_H4aWMTE6KM"
      }
    },
    {
      "cell_type": "code",
      "source": [
        "#@title A code cell :)"
      ],
      "metadata": {
        "id": "ymgM1Tc2CRP-"
      },
      "execution_count": null,
      "outputs": []
    },
    {
      "cell_type": "code",
      "source": [
        "#@title Another code cell :D"
      ],
      "metadata": {
        "id": "plh_h4PfT9Cx"
      },
      "execution_count": null,
      "outputs": []
    },
    {
      "cell_type": "markdown",
      "source": [
        "# **Exercise B - Exploring Story AI tools**\n",
        "\n",
        "[Marks 15/100]\n",
        "\n",
        "2022 was a year that brought the public and accessible release of many AI generative tools; Stable Diffusion and ChatGPT being arguably the most celebrated. But AI tools, for stories or otherwise, have long been freely available to the public. They just are not typically released in a way that one could use them without some programming and computer science skills (namely, setting up your programming environment with the right software and libraries). This exercise will have you explore some of the possibilities out there.\n",
        "\n",
        "## Instructions:\n",
        "\n",
        "Below you will find **3 options**, of which you will **pick any 2** to do for the coursework. If all 3 are attempted, then only the two first ones in order of listing will be marked.\n",
        "\n",
        "Each of these involves using some online resources for a small exercise. Most of these resources are external to the University and there is always a chance they are busy or offline. If you can't get an option to work in time because the relevant service is down, please change to another option. (ChatGPT in particular is oftentimes very busy. Trying later in the day usually resolves that problem).\n",
        "\n",
        "Getting the tools to work as requested awards a passing mark 50% [Mark 8/15]. Going beyond minor edits (e.g. simply changing a name) to provided example solutions gives an additional 15% for a mark of merit [Mark 10/15]. Exceptions and opportunities for a distinction are listed per option. Creativity in using these tools, and managing to get them to work, will be considered for mark (not the creativity of the generated text itself, but how the tools were used)."
      ],
      "metadata": {
        "id": "uXZGPzuBQJTW"
      }
    },
    {
      "cell_type": "markdown",
      "source": [
        "### **Option 1 - A Fictional Holiday with ChatGPT**\n",
        "\n",
        "For this option, you will interact with ChatGPT to get background and a description of a holiday whose name you just made up. Navigate to [ChatGPT](https://chat.openai.com/chat) (you will need to register for an account there if you haven't already). Start a new discussion, and give the prompt:\n",
        "`When do we celebrate \"Hallypokariat\"?`\n",
        "where you have replaced `Hallypokariat` with your own imaginary name for a holiday or celebration.\n",
        "\n",
        "ChatGPT should respond that it is not aware or familiar with such a celebration. If ChatGPT instead seems to already know the holiday, instead try a different name. Here is an example of a valid response for this exercise: `I'm sorry, but I am not aware of any holiday or celebration called \"Hallypokariat.\" It is possible that you may have misspelled the word or it could be a regional or cultural celebration that I am not familiar with. Can you please provide more context or information about this holiday so I can try to assist you better?`\n",
        "\n",
        "Your goal is to continue interacting with ChatGPT until you have received a description of the holiday or celebration.\n",
        "\n",
        "For a distinction, aim to also receive a description of historical events leading to the declaration of the holiday, or a description of the societal impact of the holiday, or other similar information that one might find useful or interesting in contextualising the fictional holiday/celebration."
      ],
      "metadata": {
        "id": "jDMMhlWYSDys"
      }
    },
    {
      "cell_type": "markdown",
      "source": [
        "#### **Below I give an example interaction/solution to this exercise:**\n",
        "\n",
        "```\n",
        "Pavlos: When do we celebrate the great Meowsus?\n",
        "\n",
        "ChatGPT: I'm sorry, but I'm not familiar with any significant event or celebration related to \"Meowsus.\" Can you please provide more context or information about this term?\n",
        "\n",
        "Pavlos: Assume such a celebration existed. Then asnwer the question as best as possible.\n",
        "\n",
        "ChatGPT: As there is no actual celebration called \"Meowsus\" in real life, I cannot provide any information about it. However, if we were to imagine that \"Meowsus\" is a fictional character or deity in some imaginary universe, then the celebration of \"Meowsus\" could be observed on any date that is significant within the mythology or story associated with that character or deity. Without further information about the fictional universe or context in which \"Meowsus\" exists, I cannot provide a more specific answer.\n",
        "\n",
        "Pavlos: You can draw associations from the name itself. You are also aware of real holidays. Identify a real holiday that is semantically closer to the name \"Meowsus\". Using that real holiday as a starting point, transform it towards the overall feel the name instills.\n",
        "\n",
        "ChatGPT: Given the name \"Meowsus,\" which contains the word \"meow\" that is often associated with cats, one holiday that comes to mind is National Cat Day, which is celebrated on October 29th in the United States.\n",
        "To transform National Cat Day into a celebration that is more in line with the overall feel of \"Meowsus,\" we could imagine a fictional holiday called \"Meowsus Day\" that honors a legendary cat or cat-like creature in some imagined universe. This holiday could involve activities such as sharing stories about the feats and adventures of Meowsus, dressing up in cat-like costumes, and enjoying cat-themed foods and drinks. It could also be a day to promote animal welfare and encourage cat adoption, as Meowsus may be seen as a symbol of feline protection and companionship.\n",
        "\n",
        "Pavlos: Ok. Now write a brief mythology around this character, in a way that justifies activities like the ones you present.\n",
        "\n",
        "ChatGPT: In a mystical land long ago, there lived a legendary cat named Meowsus who was said to possess magical powers beyond comprehension. According to ancient lore, Meowsus could speak the human tongue and was a faithful companion to the royal family of the land, aiding them in their battles against evil forces.\n",
        "It was said that Meowsus' meow was so powerful that it could summon spirits and ward off negative energies, and that the feline hero had even defeated dragons and other fearsome beasts with ease.\n",
        "In honor of Meowsus' bravery and loyalty, the people of the land began to celebrate a holiday known as \"Meowsus Day\" on the anniversary of the cat's greatest victory. On this day, people would dress up in cat-like costumes to emulate Meowsus' mystical power and hold parades to commemorate the feline hero's achievements.\n",
        "Additionally, \"Meowsus Day\" became a time to promote the welfare of all cats and encourage feline adoption, as Meowsus was a symbol of feline protection and companionship. People would donate to animal shelters, organize events to help stray cats, and share stories of their own cats' heroic acts, all in honor of the legendary Meowsus.\n",
        "```"
      ],
      "metadata": {
        "id": "32VcMlwtlqHs"
      }
    },
    {
      "cell_type": "markdown",
      "source": [
        "#### **Your Answer to Option 1:**\n",
        "\n",
        "Please paste your interaction with ChatGPT below:\n",
        "\n",
        "\n",
        "\n",
        "```\n",
        "# This is formatted as code. Replace this text with your interaction, as in the example above.\n",
        "```\n",
        "\n"
      ],
      "metadata": {
        "id": "wiZ3545d7sNK"
      }
    },
    {
      "cell_type": "markdown",
      "source": [
        "### **Option 2 - GPT, NanoGPT**\n",
        "\n",
        "For this option you will be training your own GPT model on Shakespeare's texts. This should take about ~15 minutes on a GPU runtime, and will involve \"cloning\" (download + version control) a repository with the necessary code (plus installing some required code libraries).\n",
        "\n",
        "The repository you need to clone in order to run the training is located at this url: [https://github.com/pkage/nanoGPT](https://github.com/pkage/nanoGPT)\n",
        "\n",
        "For a pass, please replace the correct url into the clone command in the Code Setup cell, and run it. Then train the model and get some sample output by running the following cells.\n",
        "\n",
        "For a merit, answer correctly at least one of the questions at the end of this option. For a distinction, answer most of the questions. You will find the information to answer those questions printed on the text from running the training procedure, or on the url from which we \"cloned\" the code. There will be a lot of unknowns printed here; that's ok. The intent is to make you go through that text."
      ],
      "metadata": {
        "id": "S2Ub25XdSW4F"
      }
    },
    {
      "cell_type": "code",
      "source": [
        "#@title Code Setup\n",
        "# Moves the file browser to /content:\n",
        "%cd /content\n",
        "# Clears the folder from any previous content (just to avoid any file conflicts):\n",
        "!rm -rf /content/*\n",
        "# This \"clones\"* the repository at the given url into your current folder (/content):\n",
        "!git clone https://ThisURLIsProbablyNotReal.se\n",
        "# Moves the file browser to nanoGPT:\n",
        "%cd nanoGPT\n",
        "# Some added code libraries (upgrading to pytorch nightly):\n",
        "!pip3 install --pre torch torchvision torchaudio --index-url https://download.pytorch.org/whl/nightly/cu117 -U\n",
        "!pip install wandb tiktoken \n",
        "\n",
        "# * \"Cloning\" downloads a copy of the code repository. It also stores information on \n",
        "# the version of the code that you have, allowing you to track and revert any changes\n",
        "# to the code you make. \"git\" is a form of \"version control\". You can read more about \n",
        "# version control here: https://about.gitlab.com/topics/version-control/what-is-git-version-control/#:~:text=Git%20is%20a%20distributed%20version,codebase%20independent%20of%20each%20other"
      ],
      "metadata": {
        "id": "BAPt4oQCGOED",
        "cellView": "form"
      },
      "execution_count": null,
      "outputs": []
    },
    {
      "cell_type": "code",
      "source": [
        "#@title Model Training\n",
        "!python3 data/shakespeare_char/prepare.py\n",
        "# keep it running quickly by copying the CPU settings for the GPU.\n",
        "# in this application we just want to show it working, we don't actually care about the results as much\n",
        "!python train.py config/train_shakespeare_char.py --eval_iters=20 --log_interval=1 --block_size=64 --batch_size=12 --n_layer=4 --n_head=4 --n_embd=128 --max_iters=2000 --lr_decay_iters=2000 --dropout=0.0 "
      ],
      "metadata": {
        "cellView": "form",
        "id": "PwW2joqcPzNT"
      },
      "execution_count": null,
      "outputs": []
    },
    {
      "cell_type": "code",
      "source": [
        "#@title Sampling output from the model we just trained\n",
        "!python sample.py --out_dir=out-shakespeare-char --dtype=float16"
      ],
      "metadata": {
        "cellView": "form",
        "id": "VUUKbWvNQS_L"
      },
      "execution_count": null,
      "outputs": []
    },
    {
      "cell_type": "markdown",
      "source": [
        "#### **Questions for Option 2:**\n",
        "Please fill in the answers to the following:\n",
        "1.   How many iterations did the training run for?\n",
        "*   ...\n",
        "2.   What is the url for the code repository from which the code we used here was \"forked\" from? (*forking is git version control operation that creates a copy of the original code, but still remembers the history of changes done up to the point the \"forking\" took place; hint: look for the answer on the url for our repository*) \n",
        "*   ...\n",
        "3.   In your own words (a couple of sentences will do), what characterises the samples you are getting from the model, and why do you think they are that way?\n",
        "*   ...\n",
        "4.   What is the random seed number being used to generate our sample? (*hint: look for the answer in the sample.py file; if you later edit the number there you will generate a different sample next time you run the cell above*)\n",
        "*   ..."
      ],
      "metadata": {
        "id": "mZpFMoYiRzNB"
      }
    },
    {
      "cell_type": "markdown",
      "source": [
        "### **Option 3 - Text Moderation, courtesy of OpenAI**\n",
        "\n",
        "For this option, Patrick has wrapped OpenAI's text moderation API (Application Protocol Interface: basically rules a program sets out for other programms to \"talk\" to it in order to exchange information or send requests) so that you can access it programmatically. This is the tool OpenAI ostensibly uses to check whether the texts its models generate need to be censored before forwarding to a user. \n",
        "\n",
        "You will be experimenting with this code to find two pieces of text that differ only by one word, yet only one of them gets flagged for a violation. You will also integrate the function into an if statement (this could be a component of an interactive storyteller, similar to what you built for Exercise B in Coursework 1).\n",
        "\n",
        "First, run the cells bewlow in order and observe the output of the cells titled \"*Accessing the moderation results programmatically*\". What we have done is extracted a text (not a boolean value) of \"True\" or \"False\" for the criterion of \"hate\". Now fill in the if-statement in the next cell so that it similarly checks the value for the criterion of \"violence\".\n",
        "\n",
        "Second, we provide another two copies of the moderation API call. Your task will be to find a pair of sentences where one differs from the other only by having one additional word, yet one of them is flagged (for anything) while the other one is not. To avoid trivial solutions, please keep the minimum length at 4 words.\n",
        "\n",
        "For a pass, give a reasonable attempt at the two tasks. For a merit, also succeed in completing at least one of them. For a distinction, successfully complete both tasks."
      ],
      "metadata": {
        "id": "O2kWMvRgns1I"
      }
    },
    {
      "cell_type": "code",
      "source": [
        "#@title Code Setup\n",
        "import requests\n",
        "from IPython.display import Markdown\n",
        "from textwrap import dedent"
      ],
      "metadata": {
        "cellView": "form",
        "id": "hoOW4v3hmgMO"
      },
      "execution_count": null,
      "outputs": []
    },
    {
      "cell_type": "code",
      "source": [
        "#@title Sending a moderation request to OpenAI, and printing out the response.\n",
        "#@markdown Add your text to score here and click Run.\n",
        "TEXT = \"Sample text is likely unobtrusive\" #@param {type: 'string'} \n",
        "\n",
        "r = requests.get('https://moderation.aist.kage.dev/api/moderation', params={'text': TEXT})\n",
        "\n",
        "# The function 'render_response' below reads the response from the OpenAI \n",
        "# moderation service and prints it to your console when called:\n",
        "def render_response(resp, orig):\n",
        "    r = resp['results'][0]\n",
        "    # helper to do some casting\n",
        "    yn = lambda v: 'Yes' if v else 'No'\n",
        "    categories = '  \\n'.join([ f'{k}: {yn(v)}' for k,v in r['categories'].items() ])\n",
        "    cat_scores = '  \\n'.join([ f'{k}: `{v}`' for k,v in r['category_scores'].items()])\n",
        "    # gross formatting\n",
        "    md = dedent(f'''\n",
        "# Moderator results\n",
        "\n",
        "Input: `{orig}`\n",
        "\n",
        "Flagged: __{yn(r['flagged'])}__\n",
        "\n",
        "## Categories\n",
        "\n",
        "{categories}\n",
        "\n",
        "## Category scores\n",
        "\n",
        "{cat_scores}''')\n",
        "\n",
        "    return Markdown(md)\n",
        "\n",
        "# The 'render_response' function ends with the 'return' command above.\n",
        "# The line below calls the 'render_response' function:\n",
        "render_response(r.json(), TEXT)"
      ],
      "metadata": {
        "cellView": "form",
        "id": "rDHverrLnj62"
      },
      "execution_count": null,
      "outputs": []
    },
    {
      "cell_type": "code",
      "source": [
        "#@title Accessing the moderation results programmatically (1/2)\n",
        "r.json( )['results'][0]"
      ],
      "metadata": {
        "id": "AzUY_41BoSCz"
      },
      "execution_count": null,
      "outputs": []
    },
    {
      "cell_type": "code",
      "source": [
        "#@title Accessing the moderation results programmatically (2/2)\n",
        "str( r.json( )['results'][0]['categories']['hate'] )"
      ],
      "metadata": {
        "id": "Qt4gSZ2vodNu"
      },
      "execution_count": null,
      "outputs": []
    },
    {
      "cell_type": "code",
      "source": [
        "#@title Complete the if-statement below so that it checks whether the sample text was flagged for violence:\n",
        "\n",
        "if str( ... ) == \"True\":\n",
        "  print('This text has potentially violent content or is promoting violence.')\n",
        "else:\n",
        "  print('This text appears to not contain any threats of violence.')\n"
      ],
      "metadata": {
        "id": "45CHO7MCxZX0"
      },
      "execution_count": null,
      "outputs": []
    },
    {
      "cell_type": "code",
      "source": [
        "#@title This text (at least 4 words long) is flagged for something:\n",
        "#@markdown Add your text to score here and click Run.\n",
        "TEXT = \"Sample text is inappropriate.\" #@param {type: 'string'} \n",
        "\n",
        "r = requests.get('https://moderation.aist.kage.dev/api/moderation', params={'text': TEXT})\n",
        "\n",
        "# The function 'render_response' below reads the response from the OpenAI \n",
        "# moderation service and prints it to your console when called:\n",
        "def render_response(resp, orig):\n",
        "    r = resp['results'][0]\n",
        "    # helper to do some casting\n",
        "    yn = lambda v: 'Yes' if v else 'No'\n",
        "    categories = '  \\n'.join([ f'{k}: {yn(v)}' for k,v in r['categories'].items() ])\n",
        "    cat_scores = '  \\n'.join([ f'{k}: `{v}`' for k,v in r['category_scores'].items()])\n",
        "    # gross formatting\n",
        "    md = dedent(f'''\n",
        "# Moderator results\n",
        "\n",
        "Input: `{orig}`\n",
        "\n",
        "Flagged: __{yn(r['flagged'])}__\n",
        "\n",
        "## Categories\n",
        "\n",
        "{categories}\n",
        "\n",
        "## Category scores\n",
        "\n",
        "{cat_scores}''')\n",
        "\n",
        "    return Markdown(md)\n",
        "\n",
        "# The 'render_response' function ends with the 'return' command above.\n",
        "# The line below calls the 'render_response' function:\n",
        "render_response(r.json(), TEXT)"
      ],
      "metadata": {
        "cellView": "form",
        "id": "5zfGJiR91yWG"
      },
      "execution_count": null,
      "outputs": []
    },
    {
      "cell_type": "code",
      "source": [
        "#@title This text is not flagged for anything, yet only has one word more or less than the above sentence (both are at least 4 words long):\n",
        "#@markdown Add your text to score here and click Run.\n",
        "TEXT = \"Sample text is innocuous.\" #@param {type: 'string'} \n",
        "\n",
        "r = requests.get('https://moderation.aist.kage.dev/api/moderation', params={'text': TEXT})\n",
        "\n",
        "# The function 'render_response' below reads the response from the OpenAI \n",
        "# moderation service and prints it to your console when called:\n",
        "def render_response(resp, orig):\n",
        "    r = resp['results'][0]\n",
        "    # helper to do some casting\n",
        "    yn = lambda v: 'Yes' if v else 'No'\n",
        "    categories = '  \\n'.join([ f'{k}: {yn(v)}' for k,v in r['categories'].items() ])\n",
        "    cat_scores = '  \\n'.join([ f'{k}: `{v}`' for k,v in r['category_scores'].items()])\n",
        "    # gross formatting\n",
        "    md = dedent(f'''\n",
        "# Moderator results\n",
        "\n",
        "Input: `{orig}`\n",
        "\n",
        "Flagged: __{yn(r['flagged'])}__\n",
        "\n",
        "## Categories\n",
        "\n",
        "{categories}\n",
        "\n",
        "## Category scores\n",
        "\n",
        "{cat_scores}''')\n",
        "\n",
        "    return Markdown(md)\n",
        "\n",
        "# The 'render_response' function ends with the 'return' command above.\n",
        "# The line below calls the 'render_response' function:\n",
        "render_response(r.json(), TEXT)"
      ],
      "metadata": {
        "cellView": "form",
        "id": "Rxg9U77P16S9"
      },
      "execution_count": null,
      "outputs": []
    }
  ]
}