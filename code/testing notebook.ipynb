{
 "cells": [
  {
   "cell_type": "markdown",
   "id": "bf90afc8-5df3-43a4-ac73-d7b48ffbcbaa",
   "metadata": {},
   "source": [
    "# AIST quick-reload notebook\n",
    "\n",
    "This notebook shows the optional rendering capabilities."
   ]
  },
  {
   "cell_type": "code",
   "execution_count": 2,
   "id": "a0e7d6c4-bb29-4e4e-bb3c-4dc5f1dbfe77",
   "metadata": {},
   "outputs": [],
   "source": [
    "import aist"
   ]
  },
  {
   "cell_type": "code",
   "execution_count": 3,
   "id": "6e4196c9-7305-47d9-8b87-1258c7b00e7d",
   "metadata": {},
   "outputs": [
    {
     "data": {
      "text/markdown": [
       "Sample 1:\n",
       "\n",
       "> I thought it was a train at first when I discovered my old friend. Her eyes widened and she said ‮I‮m tired. Then suddenly it had turned out to be a train at first. I noticed the same thing in the subway. We have this train. It goes over the next hour. It reaches the bottom of the building and exits. I went and stopped thinking and turned around and saw this woman. I saw that the train is a train. In its final moments she was wearing a skirt and a dress that was cut with a knife, and in some sense had a handle on it to protect her.\n",
       "\n",
       "> Then at a certain point one day she got out of her room without incident. I had a very big piece of money and there was another woman I found that I had never seen before. She was about five feet tall, with heavy hair that cut through the skin. The next day she was found lying at her bed in the bed in the middle of the\n",
       "\n",
       "Sample 2:\n",
       "\n",
       "> I thought it was a train at first, so I’d put it out,” said a man. But she found her car on Monday and didn‖t realize it was parked on a road. \"I just wanted to get out of this and get out the car,\" he said Wednesday. Asked about the man—s car last week, she added, \"I don't think that’s a good idea.”\n",
       "\n",
       "> \n",
       "\n",
       "> \n",
       "\n",
       "> \n",
       "\n",
       "> \n",
       "\n",
       "> So, when does the man stop at his car?\n",
       "\n",
       "> I guess it’s now about 2 p.m.\n",
       "\n",
       "> But it is on the 3rd Street NW that the woman from downtown Seattle stopped in, and she was not taken to a hospital until 8 p.m.\n",
       "\n",
       "> The woman from downtown Seattle was taken to Bellevue Health Center, Seattle Health Center, and a spokeswoman said it was up to the driver to decide whether or not she can take it.\n",
       "\n",
       "> The woman from Seattle was taken\n",
       "\n",
       "Sample 3:\n",
       "\n",
       "> I thought it was a train at first. Then I thought it was a small-town bar. They had a massive, giant bar, and so on that night they were laughing. As I sat by the corner, I realized it was a man who had been holding hands with his hands. I sat there because I was looking closely at him. He wasn't looking exactly like what I thought he was doing, though. He was not wearing everything in his white robes at all. He had a white robe.\n",
       "\n",
       "> I sat next to him and said, \"Sorry you thought you wore it.\" I said, \"No, I didn't know you dressed it. I had an idea you might wear it so I decided to start the game first. Then I decided to play it early and I ended up with a black robe. I had this thing with it and you can't put anything past your head. I started doing this because you need three minutes to play the game. When you have\n",
       "\n"
      ],
      "text/plain": [
       "<IPython.core.display.Markdown object>"
      ]
     },
     "metadata": {},
     "output_type": "display_data"
    },
    {
     "name": "stdout",
     "output_type": "stream",
     "text": [
      "CPU times: user 5.86 s, sys: 852 ms, total: 6.72 s\n",
      "Wall time: 11.6 s\n"
     ]
    }
   ],
   "source": [
    "%%time\n",
    "aist.text_generation('I thought it was a train at first', model='small', render=True)"
   ]
  },
  {
   "cell_type": "code",
   "execution_count": 3,
   "id": "761872d1-694d-4ae0-951e-55c48aba01a5",
   "metadata": {},
   "outputs": [
    {
     "data": {
      "text/plain": [
       "environ{'COLORFGBG': '15;0',\n",
       "        'COLORTERM': 'truecolor',\n",
       "        'COMMAND_MODE': 'unix2003',\n",
       "        'EDITOR': 'nvim',\n",
       "        'FORGIT_GI_REPO_LOCAL': '/Users/patrick/.cache/forgit/gi/repos/dvcs/gitignore',\n",
       "        'FORGIT_GI_REPO_REMOTE': 'https://github.com/dvcs/gitignore',\n",
       "        'FORGIT_GI_TEMPLATES': '/Users/patrick/.cache/forgit/gi/repos/dvcs/gitignore/templates',\n",
       "        'FORGIT_INSTALL_DIR': '/Users/patrick/.local/share/forgit',\n",
       "        'HOME': '/Users/patrick',\n",
       "        'HOMEBREW_VERBOSE': '1',\n",
       "        'ITERM_PROFILE': 'Default',\n",
       "        'ITERM_SESSION_ID': 'w0t0p0:15B9C94A-2782-4FEF-9FF1-78F712080003',\n",
       "        'JULIA_DEBUG': '1',\n",
       "        'LANG': 'en_US.UTF-8',\n",
       "        'LC_TERMINAL': 'iTerm2',\n",
       "        'LC_TERMINAL_VERSION': '3.4.15',\n",
       "        'LESS_TERMCAP_mb': '\\x1b[1;32m',\n",
       "        'LESS_TERMCAP_md': '\\x1b[1;32m',\n",
       "        'LESS_TERMCAP_me': '\\x1b[0m',\n",
       "        'LESS_TERMCAP_se': '\\x1b[0m',\n",
       "        'LESS_TERMCAP_so': '\\x1b[01;33m',\n",
       "        'LESS_TERMCAP_ue': '\\x1b[0m',\n",
       "        'LESS_TERMCAP_us': '\\x1b[1;4;31m',\n",
       "        'LOGNAME': 'patrick',\n",
       "        'LaunchInstanceID': '2C05154A-EEB8-495B-9D57-5F485665767C',\n",
       "        'NVIM_LISTEN_ADDRESS': '/tmp/nvimsocket',\n",
       "        'OLDPWD': '/Users/patrick/Repositories/school/phd/ai-storytelling-backstage',\n",
       "        'PATH': '/Users/patrick/.poetry/bin:/usr/local/Caskroom/miniconda/base/bin:/Users/patrick/Library/Python/3.9/bin:/Library/TeX/texbin:~/.local/bin:/opt/homebrew/bin:/usr/local/sbin:/Users/patrick/.local/bin:/Users/patrick/.cargo/bin:/usr/local/bin:/usr/bin:/bin:/usr/sbin:/sbin:/Library/TeX/texbin:/Library/Apple/usr/bin:/Users/patrick/.poetry/bin:/usr/local/Caskroom/miniconda/base/bin:/Users/patrick/Library/Python/3.9/bin:~/.local/bin:/opt/homebrew/bin:/usr/local/sbin:/Users/patrick/.local/bin:/Users/patrick/.cargo/bin',\n",
       "        'PWD': '/Users/patrick/Repositories/school/phd/ai-storytelling-backstage/code',\n",
       "        'SECURITYSESSIONID': '186b3',\n",
       "        'SHELL': '/bin/zsh',\n",
       "        'SHLVL': '2',\n",
       "        'SSH_AUTH_SOCK': '/private/tmp/com.apple.launchd.xjgWIsmGBy/Listeners',\n",
       "        'TERM': 'xterm-color',\n",
       "        'TERM_PROGRAM': 'tmux',\n",
       "        'TERM_PROGRAM_VERSION': '3.3a',\n",
       "        'TERM_SESSION_ID': 'w0t0p0:15B9C94A-2782-4FEF-9FF1-78F712080003',\n",
       "        'TMPDIR': '/var/folders/pm/dvglhyn133sbzgg266kj4kqr0000gn/T/',\n",
       "        'TMUX': '/private/tmp/tmux-501/default,2806,1',\n",
       "        'TMUX_PANE': '%6',\n",
       "        'USER': 'patrick',\n",
       "        'XPC_FLAGS': '0x0',\n",
       "        'XPC_SERVICE_NAME': '0',\n",
       "        '__CFBundleIdentifier': 'com.googlecode.iterm2',\n",
       "        '__CF_USER_TEXT_ENCODING': '0x1F5:0x0:0x0',\n",
       "        '_': '/opt/homebrew/bin/jupyter',\n",
       "        'PYDEVD_USE_FRAME_EVAL': 'NO',\n",
       "        'JPY_PARENT_PID': '67501',\n",
       "        'CLICOLOR': '1',\n",
       "        'PAGER': 'cat',\n",
       "        'GIT_PAGER': 'cat',\n",
       "        'MPLBACKEND': 'module://matplotlib_inline.backend_inline',\n",
       "        'TRANSFORMERS_CACHE': '/Users/patrick/Repositories/school/phd/ai-storytelling-backstage/code/model_cache'}"
      ]
     },
     "execution_count": 3,
     "metadata": {},
     "output_type": "execute_result"
    }
   ],
   "source": [
    "import os\n",
    "os.environ"
   ]
  },
  {
   "cell_type": "code",
   "execution_count": null,
   "id": "01317979-ce1f-429a-8130-66ec40fe2df8",
   "metadata": {},
   "outputs": [],
   "source": []
  }
 ],
 "metadata": {
  "kernelspec": {
   "display_name": "aist",
   "language": "python",
   "name": "aist"
  },
  "language_info": {
   "codemirror_mode": {
    "name": "ipython",
    "version": 3
   },
   "file_extension": ".py",
   "mimetype": "text/x-python",
   "name": "python",
   "nbconvert_exporter": "python",
   "pygments_lexer": "ipython3",
   "version": "3.9.13"
  }
 },
 "nbformat": 4,
 "nbformat_minor": 5
}
