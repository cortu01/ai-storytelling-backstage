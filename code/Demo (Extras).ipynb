{
 "cells": [
  {
   "cell_type": "markdown",
   "id": "795f84a7-7411-482c-be6b-b8fe673aca52",
   "metadata": {},
   "source": [
    "# AIST Extras demo\n",
    "\n",
    "This shows some stuff that isn't easily categorizable into `text` or `image`, or isn't quite ready for primetime."
   ]
  },
  {
   "cell_type": "code",
   "execution_count": 1,
   "id": "41ad4ec8-e519-4c43-a677-ec42f6f60bcd",
   "metadata": {},
   "outputs": [],
   "source": [
    "from aist import extras"
   ]
  },
  {
   "cell_type": "markdown",
   "id": "6cc6d7f8-6da4-4287-8ed5-d4c04167f02f",
   "metadata": {},
   "source": [
    "## Rank by sentiment\n",
    "\n",
    "Given a list of strings, rank them by their sentiment."
   ]
  },
  {
   "cell_type": "code",
   "execution_count": 2,
   "id": "c080b033-66a1-49a3-95d4-b4606cf62367",
   "metadata": {},
   "outputs": [
    {
     "data": {
      "text/markdown": [
       "1. **I like working here.**\n",
       "\n",
       "    (<span style=\"color: green;\">POSITIVE</span> score: 99.955%)\n",
       "\n",
       "2. **A fundamentally transcendental experience.**\n",
       "\n",
       "    (<span style=\"color: green;\">POSITIVE</span> score: 99.932%)\n",
       "\n",
       "3. **This place is just okay, not great not terrible.**\n",
       "\n",
       "    (<span style=\"color: green;\">POSITIVE</span> score: 99.765%)\n",
       "\n",
       "4. **This place is neutral.**\n",
       "\n",
       "    (<span style=\"color: red;\">NEGATIVE</span> score: 99.892%)\n",
       "\n",
       "5. **Fuck this place.**\n",
       "\n",
       "    (<span style=\"color: red;\">NEGATIVE</span> score: 99.945%)\n",
       "\n"
      ],
      "text/plain": [
       "<IPython.core.display.Markdown object>"
      ]
     },
     "metadata": {},
     "output_type": "display_data"
    }
   ],
   "source": [
    "extras.rank_by_sentiment([\n",
    "    'I like working here.',\n",
    "    'This place is just okay, not great not terrible.',\n",
    "    'Fuck this place.',\n",
    "    'A fundamentally transcendental experience.',\n",
    "    'This place is neutral.'\n",
    "])"
   ]
  },
  {
   "cell_type": "code",
   "execution_count": null,
   "id": "a88128d1-00e8-41b5-928f-528590dfc341",
   "metadata": {},
   "outputs": [],
   "source": []
  }
 ],
 "metadata": {
  "kernelspec": {
   "display_name": "aist",
   "language": "python",
   "name": "aist"
  },
  "language_info": {
   "codemirror_mode": {
    "name": "ipython",
    "version": 3
   },
   "file_extension": ".py",
   "mimetype": "text/x-python",
   "name": "python",
   "nbconvert_exporter": "python",
   "pygments_lexer": "ipython3",
   "version": "3.9.13"
  }
 },
 "nbformat": 4,
 "nbformat_minor": 5
}
