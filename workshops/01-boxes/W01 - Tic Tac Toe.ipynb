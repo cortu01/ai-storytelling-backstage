{
 "cells": [
  {
   "cell_type": "markdown",
   "id": "01eb0bce-957b-4979-85d1-87cc47e980ee",
   "metadata": {},
   "source": [
    "# AIST Workshop 01\n",
    "\n",
    "In this workshop, we'll be manually tuning the weights of a feed-forward neural network in order to detect wins in the game of Tic Tac Toe.\n",
    "\n",
    "## Background\n",
    "\n",
    "To make things a little easier, we'll be restricting our view of the inputs to just a 5 by 5 square, where each cell in that square is either black or white—a binary encoding.\n",
    "\n",
    "Our inputs will look like this:\n",
    "\n",
    "```\n",
    "⬛️⬜️⬜️⬜️⬛️ | ⬛️⬛️⬛️⬛️⬛️ | ⬜️⬜️⬜️⬜️⬜️\n",
    "⬜️⬛️⬜️⬛️⬜️ | ⬛️⬜️⬜️⬜️⬛️ | ⬜️⬜️⬜️⬜️⬜️\n",
    "⬜️⬜️⬛️⬜️⬜️ | ⬛️⬜️⬜️⬜️⬛️ | ⬜️⬜️⬜️⬜️⬜️\n",
    "⬜️⬛️⬜️⬛️⬜️ | ⬛️⬜️⬜️⬜️⬛️ | ⬜️⬜️⬜️⬜️⬜️\n",
    "⬛️⬜️⬜️⬜️⬛️ | ⬛️⬛️⬛️⬛️⬛️ | ⬜️⬜️⬜️⬜️⬜️\n",
    "```\n",
    "\n",
    "Now, this is all very well and good for our Human Eyeballs™—we're hardwired to recognize blocks of color. Computers and math, however, don't do as well with blocks of color, so we'll have to pick a way to represent our cells numerically. A simple choice is to map ON to a one, and OFF to a zero.\n",
    "\n",
    "Here's what an example X will look like as a matrix of ones and zeros:\n",
    "\n",
    "$$\n",
    "\\begin{bmatrix}\n",
    "1 & 0 & 0 & 0 & 1 \\\\\n",
    "0 & 1 & 0 & 1 & 0 \\\\\n",
    "0 & 0 & 1 & 0 & 0 \\\\\n",
    "0 & 1 & 0 & 1 & 0 \\\\\n",
    "1 & 0 & 0 & 0 & 1\n",
    "\\end{bmatrix}\n",
    "$$\n",
    "\n",
    "And the same in a bit of Python code:\n",
    "\n",
    "```python\n",
    "example_X = np.array([\n",
    "    [1, 0, 0, 0, 1],\n",
    "    [0, 1, 0, 1, 0],\n",
    "    [0, 0, 1, 0, 0],\n",
    "    [0, 1, 0, 1, 0],\n",
    "    [1, 0, 0, 0, 1]\n",
    "])\n",
    "```\n",
    "\n",
    "Note that in Python, matrices are represented as an array of arrays. We're also creating a [NumPy](https://numpy.org) array, meaning we'll be using NumPy to do our calculations down the road.\n",
    "\n",
    "As an aside, whitespace is optional within the context of writing arrays in Python, we could have just as easily written:\n",
    "\n",
    "```python\n",
    "example_X = np.array([[1,0,0,0,1],[0,1,0,1,0],[0,0,1,0,0],[0,1,0,1,0],[1,0,0,0,1]])\n",
    "```\n",
    "\n",
    "... but the readability takes a major hit. Best to take a few extra seconds and make your code look nice.\n",
    "\n",
    "## Setup\n",
    "\n",
    "In order to get started, we first need to import a few libraries that we'll be using, and define a helper function for the logistic sigmoid (more on that later)"
   ]
  },
  {
   "cell_type": "code",
   "execution_count": 1,
   "id": "dd7c74dd-f2f0-4d7a-b17d-a5475918a8b2",
   "metadata": {},
   "outputs": [],
   "source": [
    "import numpy as np\n",
    "import math\n",
    "\n",
    "# define a sigmoid\n",
    "def sigmoid(x):\n",
    "    return 1.0 / (1.0  + math.exp(-x))\n"
   ]
  },
  {
   "cell_type": "markdown",
   "id": "236a8032-70b7-43a4-8043-777861ba9a62",
   "metadata": {},
   "source": [
    "## TASK 1 : weights for X\n",
    "\n",
    "Our first task is to find some weights, $W$, such that when we multiply our input cells $C$ by $W$ we get some numeric output that scores whether or not our output is an X. Ideally, we'd want a positive value when our input is an X and close to zero if it's empty.\n",
    "\n",
    "We'll also be putting our result through a logistic sigmoid function, which \"squishes\" large values to be between zero and one. This function is usually written $S(x)$ and is defined as:\n",
    "\n",
    "$$\n",
    "S(x) = \\frac{1}{1+e^{-x}}\n",
    "$$\n",
    "\n",
    "<span style=\"color: red;\">ADD GRAPH - SIGMOID</span>\n",
    "\n",
    "\n",
    "<span style=\"color: red;\">WRITE ABOUT CAVEATS - DOT PRODUCT VS MATRIX PRODUCT</span>\n",
    "\n",
    "<span style=\"color: red;\">WRITE ABOUT CAVEATS - CELL C VS USUAL NOTATION X</span>\n",
    "\n",
    "We've defined an example X below:"
   ]
  },
  {
   "cell_type": "code",
   "execution_count": 2,
   "id": "da5970f4-7852-45ac-8a07-4b39de1b2c4a",
   "metadata": {},
   "outputs": [],
   "source": [
    "example_X = np.array([\n",
    "    [1, 0, 0, 0, 1],\n",
    "    [0, 1, 0, 1, 0],\n",
    "    [0, 0, 1, 0, 0],\n",
    "    [0, 1, 0, 1, 0],\n",
    "    [1, 0, 0, 0, 1]\n",
    "])"
   ]
  },
  {
   "cell_type": "markdown",
   "id": "1b139fa8-9461-4f73-86a6-a425b71c8319",
   "metadata": {},
   "source": [
    "Fill in your example weights below, and press `Shift-Enter` to execute the cell (which will perform the multiplication)."
   ]
  },
  {
   "cell_type": "code",
   "execution_count": 3,
   "id": "3971d445-d353-4932-b58e-b4dc8f071eb0",
   "metadata": {},
   "outputs": [
    {
     "name": "stdout",
     "output_type": "stream",
     "text": [
      "The product of W and C is:  0\n",
      "The sigmoid of the product: 0.5\n"
     ]
    }
   ],
   "source": [
    "# change values in here!\n",
    "weights_X = np.array([\n",
    "    [0, 0, 0, 0, 0],\n",
    "    [0, 0, 0, 0, 0],\n",
    "    [0, 0, 0, 0, 0],\n",
    "    [0, 0, 0, 0, 0],\n",
    "    [0, 0, 0, 0, 0]\n",
    "])\n",
    "\n",
    "\n",
    "# the '@' operator is a shorthand for a product operation,\n",
    "# either a matrix product or a dot product. Here, we're\n",
    "# turning our matrix into a vector so we can do a dot product.\n",
    "result = example_X.flatten() @ weights_X.flatten()\n",
    "\n",
    "# print our result!\n",
    "print(f'The product of W and C is:  {result}')\n",
    "print(f'The sigmoid of the product: {sigmoid(result)}')"
   ]
  },
  {
   "cell_type": "markdown",
   "id": "f5b8fa38-a906-47ce-b0d5-b55c80faf050",
   "metadata": {},
   "source": [
    "## TASK 2 : weights for X and O and empty\n",
    "\n",
    "Our next task is to identify weights that will make Xs positive and Os negative. We also want to keep empty cells registering zero. This is basically the same task as before, but instead of optimizing for a single outcome you're balancing three.\n",
    "\n",
    "Additionally, we'll be applying a sigmoid operator as well.\n",
    "\n",
    "We'll define a couple more cells:"
   ]
  },
  {
   "cell_type": "code",
   "execution_count": 4,
   "id": "3325645f-23ec-4f59-a532-0cdc0b7fe81d",
   "metadata": {},
   "outputs": [],
   "source": [
    "example_O = np.array([\n",
    "    [1, 1, 1, 1, 1],\n",
    "    [1, 0, 0, 0, 1],\n",
    "    [1, 0, 0, 0, 1],\n",
    "    [1, 0, 0, 0, 1],\n",
    "    [1, 1, 1, 1, 1]\n",
    "])\n",
    "\n",
    "example_E = np.array([\n",
    "    [0, 0, 0, 0, 0],\n",
    "    [0, 0, 0, 0, 0],\n",
    "    [0, 0, 0, 0, 0],\n",
    "    [0, 0, 0, 0, 0],\n",
    "    [0, 0, 0, 0, 0]\n",
    "])"
   ]
  },
  {
   "cell_type": "markdown",
   "id": "e21a4b96-054d-4cca-90a4-993085ca6edd",
   "metadata": {},
   "source": [
    "Now, modify the weight matrix until you find something that works. "
   ]
  },
  {
   "cell_type": "code",
   "execution_count": 5,
   "id": "84e231ff-a408-4f68-8287-8442338965df",
   "metadata": {},
   "outputs": [
    {
     "name": "stdout",
     "output_type": "stream",
     "text": [
      "The X * W product is: 0\n",
      "The X * W sigmoid is: 0.5\n",
      "\n",
      "The O * W product is: 0\n",
      "The O * W sigmoid is: 0.5\n",
      "\n",
      "The E * W product is: 0\n",
      "The E * W sigmoid is: 0.5\n"
     ]
    }
   ],
   "source": [
    "# change values in here!\n",
    "weights_XO = np.array([\n",
    "    [0, 0, 0, 0, 0],\n",
    "    [0, 0, 0, 0, 0],\n",
    "    [0, 0, 0, 0, 0],\n",
    "    [0, 0, 0, 0, 0],\n",
    "    [0, 0, 0, 0, 0]\n",
    "])\n",
    "\n",
    "\n",
    "# get the results...\n",
    "result_x = example_X.flatten() @ weights_XO.flatten()\n",
    "result_o = example_O.flatten() @ weights_XO.flatten()\n",
    "result_e = example_E.flatten() @ weights_XO.flatten()\n",
    "\n",
    "# ... and print them!\n",
    "print(f'The X * W product is: {result_x}')\n",
    "print(f'The X * W sigmoid is: {sigmoid(result_x)}')\n",
    "print()\n",
    "print(f'The O * W product is: {result_o}')\n",
    "print(f'The O * W sigmoid is: {sigmoid(result_o)}')\n",
    "print()\n",
    "print(f'The E * W product is: {result_o}')\n",
    "print(f'The E * W sigmoid is: {sigmoid(result_o)}')"
   ]
  },
  {
   "cell_type": "markdown",
   "id": "0700c768-a7a1-4649-befe-17b047f040de",
   "metadata": {},
   "source": [
    "💡 Ask : why is the empty cell's output always zero?"
   ]
  },
  {
   "cell_type": "markdown",
   "id": "d09b61ef-42bf-42e7-a9c7-4cf644cdc9ea",
   "metadata": {},
   "source": [
    "## TASK 3 : Higher-level Reasoning\n",
    "\n",
    "\n",
    "We've already built the tools to recognize the individual cells, now we need to build another layer on top of that to detect wins in our smaller representation:\n",
    "\n",
    "```\n",
    "⬛️⬜️⬜️⬜️⬛️   ⬛️⬜️⬜️⬜️⬛️   ⬛️⬜️⬜️⬜️⬛️\n",
    "⬜️⬛️⬜️⬛️⬜️   ⬜️⬛️⬜️⬛️⬜️   ⬜️⬛️⬜️⬛️⬜️\n",
    "⬜️⬜️⬛️⬜️⬜️   ⬜️⬜️⬛️⬜️⬜️   ⬜️⬜️⬛️⬜️⬜️   \n",
    "⬜️⬛️⬜️⬛️⬜️   ⬜️⬛️⬜️⬛️⬜️   ⬜️⬛️⬜️⬛️⬜️\n",
    "⬛️⬜️⬜️⬜️⬛️   ⬛️⬜️⬜️⬜️⬛️   ⬛️⬜️⬜️⬜️⬛️\n",
    "\n",
    "⬛️⬜️⬜️⬜️⬛️   ⬛️⬛️⬛️⬛️⬛️   ⬜️⬜️⬜️⬜️⬜️\n",
    "⬜️⬛️⬜️⬛️⬜️   ⬛️⬜️⬜️⬜️⬛️   ⬜️⬜️⬜️⬜️⬜️           X X X\n",
    "⬜️⬜️⬛️⬜️⬜️   ⬛️⬜️⬜️⬜️⬛️   ⬜️⬜️⬜️⬜️⬜️     ->    X O _   ->   who wins?\n",
    "⬜️⬛️⬜️⬛️⬜️   ⬛️⬜️⬜️⬜️⬛️   ⬜️⬜️⬜️⬜️⬜️           O O _\n",
    "⬛️⬜️⬜️⬜️⬛️   ⬛️⬛️⬛️⬛️⬛️   ⬜️⬜️⬜️⬜️⬜️\n",
    "\n",
    "⬛️⬛️⬛️⬛️⬛️   ⬛️⬛️⬛️⬛️⬛️   ⬜️⬜️⬜️⬜️⬜️\n",
    "⬛️⬜️⬜️⬜️⬛️   ⬛️⬜️⬜️⬜️⬛️   ⬜️⬜️⬜️⬜️⬜️\n",
    "⬛️⬜️⬜️⬜️⬛️   ⬛️⬜️⬜️⬜️⬛️   ⬜️⬜️⬜️⬜️⬜️\n",
    "⬛️⬜️⬜️⬜️⬛️   ⬛️⬜️⬜️⬜️⬛️   ⬜️⬜️⬜️⬜️⬜️\n",
    "⬛️⬛️⬛️⬛️⬛️   ⬛️⬛️⬛️⬛️⬛️   ⬜️⬜️⬜️⬜️⬜️\n",
    "\n",
    "```\n",
    "\n"
   ]
  },
  {
   "cell_type": "code",
   "execution_count": null,
   "id": "f634c949-82d8-4121-a894-ac21c4f4851e",
   "metadata": {},
   "outputs": [],
   "source": []
  }
 ],
 "metadata": {
  "kernelspec": {
   "display_name": "aist",
   "language": "python",
   "name": "aist"
  },
  "language_info": {
   "codemirror_mode": {
    "name": "ipython",
    "version": 3
   },
   "file_extension": ".py",
   "mimetype": "text/x-python",
   "name": "python",
   "nbconvert_exporter": "python",
   "pygments_lexer": "ipython3",
   "version": "3.9.13"
  }
 },
 "nbformat": 4,
 "nbformat_minor": 5
}
